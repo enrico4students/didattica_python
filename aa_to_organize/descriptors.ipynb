{
 "cells": [
  {
   "cell_type": "markdown",
   "metadata": {},
   "source": [
    "# Python Descriptors and How to Use them | Towards Data Science  \n",
    "\n",
    "## Artemis Nika8-9 minutes 14/03/2022  \n"
   ]
  },
  {
   "cell_type": "markdown",
   "metadata": {},
   "source": [
    "https://towardsdatascience.com/python-descriptors-and-how-to-use-them-5167d506af84"
   ]
  },
  {
   "cell_type": "markdown",
   "metadata": {},
   "source": []
  },
  {
   "cell_type": "code",
   "execution_count": 9,
   "metadata": {},
   "outputs": [],
   "source": [
    "class ExplainDescriptors:\n",
    "\n",
    "    def __init__(self):\n",
    "        print('__init__')\n",
    "\n",
    "    def __set_name__(self, owner, name):\n",
    "        print(f'__set_name__(owner={owner}, name={name})')\n",
    "        self.name = name\n",
    "\n",
    "    def __get__(self, instance, owner=None):\n",
    "        print(f'__get__(instance={instance}, owner={owner})')\n",
    "        return instance.__dict__.get(self.name)\n",
    "\n",
    "    def __set__(self, instance, value): \n",
    "        print(f'__set__(instance={instance}, value={value})')\n",
    "        instance.__dict__[self.name] = value\n",
    "\n",
    "    def __delete__(self, instance):\n",
    "        print(f'__delete__(instance={instance})')\n",
    "        del instance.__dict__[self.name]"
   ]
  },
  {
   "cell_type": "markdown",
   "metadata": {},
   "source": [
    "da definire"
   ]
  },
  {
   "cell_type": "code",
   "execution_count": 10,
   "metadata": {},
   "outputs": [
    {
     "name": "stdout",
     "output_type": "stream",
     "text": [
      "__init__\n",
      "__set_name__(owner=<class '__main__.SomeClass'>, name=a)\n"
     ]
    }
   ],
   "source": [
    "class SomeClass:\n",
    "    a = ExplainDescriptors()"
   ]
  },
  {
   "cell_type": "code",
   "execution_count": 11,
   "metadata": {},
   "outputs": [],
   "source": [
    "\n",
    "someObject = SomeClass()"
   ]
  },
  {
   "cell_type": "code",
   "execution_count": 12,
   "metadata": {},
   "outputs": [
    {
     "name": "stdout",
     "output_type": "stream",
     "text": [
      "__set__(instance=<__main__.SomeClass object at 0x000001A74CCD05B0>, value=10)\n"
     ]
    }
   ],
   "source": [
    "someObject.a = 10"
   ]
  },
  {
   "cell_type": "code",
   "execution_count": 13,
   "metadata": {},
   "outputs": [
    {
     "name": "stdout",
     "output_type": "stream",
     "text": [
      "__delete__(instance=<__main__.SomeClass object at 0x000001A74CCD05B0>)\n"
     ]
    }
   ],
   "source": [
    "\n",
    "del someObject.a"
   ]
  },
  {
   "cell_type": "code",
   "execution_count": 14,
   "metadata": {},
   "outputs": [
    {
     "name": "stdout",
     "output_type": "stream",
     "text": [
      "__get__(instance=<__main__.SomeClass object at 0x000001A74CCD05B0>, owner=<class '__main__.SomeClass'>)\n"
     ]
    }
   ],
   "source": [
    "\n",
    "someObject.a"
   ]
  },
  {
   "cell_type": "markdown",
   "metadata": {},
   "source": [
    "Let’s have a look at a more practical example (without print statements this time)!"
   ]
  },
  {
   "cell_type": "code",
   "execution_count": 15,
   "metadata": {},
   "outputs": [],
   "source": [
    "class ReadOnlyAttribute:\n",
    "\n",
    "    def __init__(self, value):\n",
    "        self.value = value\n",
    "\n",
    "    def __set_name__(self, owner, name):\n",
    "        self.name = name \n",
    "\n",
    "    def __get__(self, instance, owner=None):\n",
    "        return self.value\n",
    "\n",
    "    def __set__(self, instance, value):\n",
    "        msg = '{} is a read-only attribute'.format(self.name)\n",
    "        raise AttributeError(msg)"
   ]
  },
  {
   "cell_type": "code",
   "execution_count": 16,
   "metadata": {},
   "outputs": [],
   "source": [
    "class StubbornPikachu:\n",
    "  speak = ReadOnlyAttribute('pika pika')"
   ]
  },
  {
   "cell_type": "markdown",
   "metadata": {},
   "source": [
    "In the example above, we have created a read-only descriptor and assigned it to the attribute speak. We are not storing anything in instance as we want all Pikachu objects to say the same thing — they all share the same descriptor.\n",
    "\n",
    "Any attempts to change what our StubbornPikachu says will be met with failure (or more specifically an AttributeError)."
   ]
  },
  {
   "cell_type": "code",
   "execution_count": null,
   "metadata": {},
   "outputs": [],
   "source": []
  },
  {
   "cell_type": "code",
   "execution_count": 5,
   "metadata": {},
   "outputs": [],
   "source": [
    "class DataDescriptor:\n",
    "    def __set_name__(self, owner, name):\n",
    "        self.name = name\n",
    "    def __get__(self, instance, owner=None):\n",
    "        default_value = '{} not defined'.format(self.name)\n",
    "        print('In __get__ of {}'.format(self))\n",
    "        return instance.__dict__.get(self.name, default_value)\n",
    "    def __set__(self, instance, value):\n",
    "        print('In __set__ of {}'.format(self))\n",
    "        instance.__dict__[self.name] = value\n",
    "\n",
    "class NonDataDescriptor:\n",
    "    def __set_name__(self, owner, name):\n",
    "        self.name = name\n",
    "    def __get__(self, instance, owner=None):\n",
    "        default_value = '{} not defined'.format(self.name)\n",
    "        print('In __get__ of {}'.format(self))\n",
    "        return instance.__dict__.get(self.name, default_value)\n",
    "\n",
    "class Example:\n",
    "    a = DataDescriptor()\n",
    "    b = NonDataDescriptor()\n",
    "\n",
    "example = Example()"
   ]
  },
  {
   "cell_type": "markdown",
   "metadata": {},
   "source": [
    "In the code above we have created two descriptors and assigned them to attributes a and b for class Example. \n",
    "They are identical except that *DataDescriptor has the \\_\\_set\\_\\_ method.*"
   ]
  },
  {
   "cell_type": "code",
   "execution_count": 6,
   "metadata": {},
   "outputs": [
    {
     "data": {
      "text/plain": [
       "{}"
      ]
     },
     "execution_count": 6,
     "metadata": {},
     "output_type": "execute_result"
    }
   ],
   "source": [
    "example.__dict__"
   ]
  },
  {
   "cell_type": "markdown",
   "metadata": {},
   "source": [
    "we haven’t defined a and b for example — and hence example.__dict__ is empty  \n",
    "both attributes are accessed via their descriptors' \\_\\_get\\_\\_ methods"
   ]
  },
  {
   "cell_type": "code",
   "execution_count": 7,
   "metadata": {},
   "outputs": [
    {
     "name": "stdout",
     "output_type": "stream",
     "text": [
      "In __get__ of <__main__.DataDescriptor object at 0x0000021024296BE0>\n"
     ]
    },
    {
     "data": {
      "text/plain": [
       "'a not defined'"
      ]
     },
     "execution_count": 7,
     "metadata": {},
     "output_type": "execute_result"
    }
   ],
   "source": [
    "example.a"
   ]
  },
  {
   "cell_type": "code",
   "execution_count": 8,
   "metadata": {},
   "outputs": [
    {
     "name": "stdout",
     "output_type": "stream",
     "text": [
      "In __get__ of <__main__.NonDataDescriptor object at 0x0000021024296CD0>\n"
     ]
    },
    {
     "data": {
      "text/plain": [
       "'b not defined'"
      ]
     },
     "execution_count": 8,
     "metadata": {},
     "output_type": "execute_result"
    }
   ],
   "source": [
    "example.b"
   ]
  },
  {
   "cell_type": "code",
   "execution_count": 14,
   "metadata": {},
   "outputs": [
    {
     "data": {
      "text/plain": [
       "{'a': 'AAA', 'b': 'BBB'}"
      ]
     },
     "execution_count": 14,
     "metadata": {},
     "output_type": "execute_result"
    }
   ],
   "source": [
    "# we set them to some values.\n",
    "example.__dict__['a'] = 'AAA'\n",
    "example.__dict__['b'] = 'BBB'\n",
    "example.__dict__"
   ]
  },
  {
   "cell_type": "markdown",
   "metadata": {},
   "source": [
    "After ‘b’ appears in example.\\_\\_dict\\_\\_ the \\_\\_get\\_\\_ method of the NonDataDescriptor assigned to b is no longer used. "
   ]
  },
  {
   "cell_type": "code",
   "execution_count": 15,
   "metadata": {},
   "outputs": [
    {
     "name": "stdout",
     "output_type": "stream",
     "text": [
      "In __get__ of <__main__.DataDescriptor object at 0x0000021024296BE0>\n",
      "AAA\n"
     ]
    },
    {
     "data": {
      "text/plain": [
       "'BBB'"
      ]
     },
     "execution_count": 15,
     "metadata": {},
     "output_type": "execute_result"
    }
   ],
   "source": [
    "print(example.a)\n",
    "example.b"
   ]
  },
  {
   "cell_type": "markdown",
   "metadata": {},
   "source": [
    "After ‘b’ appears in example.\\_\\_dict\\_\\_ the \\_\\_get\\_\\_ method of the NonDataDescriptor assigned to b is no longer used.  \n",
    "Accessing a still uses the \\_\\_get\\_\\_ method as data descriptors take priority over whatever is in \\_\\_dict\\_\\_.  \n",
    "To access b , however, we go straight to example.\\_\\_dict\\_\\_ as that is checked before non-data descriptors.\n"
   ]
  },
  {
   "cell_type": "markdown",
   "metadata": {},
   "source": [
    "class BoundedNumber below is a data descriptor that checks that the value assigned to the attribute is between two numbers"
   ]
  },
  {
   "cell_type": "code",
   "execution_count": 16,
   "metadata": {},
   "outputs": [],
   "source": [
    "class BoundedNumber:\n",
    "    def __init__(self, min_val, max_val):\n",
    "        self.min_val = min_val\n",
    "        self.max_val = max_val\n",
    "    def __set_name__(self, owner, name):\n",
    "        self.name = name\n",
    "    def __set__(self, instance, value):\n",
    "        if self.min_val > value or value > self.max_val:\n",
    "            msg = '{} takes values between {} and {}'.format(\n",
    "                self.name, \n",
    "                self.min_val, \n",
    "                self.max_val,\n",
    "            )\n",
    "            raise ValueError(msg)\n",
    "        instance.__dict__[self.name] = value\n",
    "    def __get__(self, instance, owner=None):\n",
    "        return instance.__dict__[self.name]"
   ]
  },
  {
   "cell_type": "code",
   "execution_count": 17,
   "metadata": {},
   "outputs": [],
   "source": [
    "class Person:\n",
    "    age = BoundedNumber(1, 120)\n",
    "    weight = BoundedNumber(1, 250)\n",
    "    height = BoundedNumber(1, 230)\n",
    "    def __init__(self, name, age, weight, height):\n",
    "        self.name = name\n",
    "        self.age = age\n",
    "        self.weight = weight\n",
    "        self.height = height\n"
   ]
  },
  {
   "cell_type": "code",
   "execution_count": 18,
   "metadata": {},
   "outputs": [
    {
     "ename": "ValueError",
     "evalue": "age takes values between 1 and 120",
     "output_type": "error",
     "traceback": [
      "\u001b[1;31m---------------------------------------------------------------------------\u001b[0m",
      "\u001b[1;31mValueError\u001b[0m                                Traceback (most recent call last)",
      "\u001b[1;32m~\\AppData\\Local\\Temp\\ipykernel_8976\\283134300.py\u001b[0m in \u001b[0;36m<cell line: 2>\u001b[1;34m()\u001b[0m\n\u001b[0;32m      1\u001b[0m \u001b[0mp1\u001b[0m \u001b[1;33m=\u001b[0m \u001b[0mPerson\u001b[0m\u001b[1;33m(\u001b[0m\u001b[1;34m'John'\u001b[0m\u001b[1;33m,\u001b[0m  \u001b[0mage\u001b[0m\u001b[1;33m=\u001b[0m\u001b[1;36m20\u001b[0m\u001b[1;33m,\u001b[0m  \u001b[0mweight\u001b[0m \u001b[1;33m=\u001b[0m \u001b[1;36m80\u001b[0m\u001b[1;33m,\u001b[0m \u001b[0mheight\u001b[0m \u001b[1;33m=\u001b[0m \u001b[1;36m170\u001b[0m\u001b[1;33m)\u001b[0m\u001b[1;33m\u001b[0m\u001b[1;33m\u001b[0m\u001b[0m\n\u001b[1;32m----> 2\u001b[1;33m \u001b[0mp1\u001b[0m \u001b[1;33m=\u001b[0m \u001b[0mPerson\u001b[0m\u001b[1;33m(\u001b[0m\u001b[1;34m'Maria'\u001b[0m\u001b[1;33m,\u001b[0m \u001b[0mage\u001b[0m\u001b[1;33m=\u001b[0m\u001b[1;36m432\u001b[0m\u001b[1;33m,\u001b[0m \u001b[0mweight\u001b[0m \u001b[1;33m=\u001b[0m \u001b[1;36m60\u001b[0m\u001b[1;33m,\u001b[0m \u001b[0mheight\u001b[0m \u001b[1;33m=\u001b[0m \u001b[1;36m160\u001b[0m\u001b[1;33m)\u001b[0m\u001b[1;33m\u001b[0m\u001b[1;33m\u001b[0m\u001b[0m\n\u001b[0m",
      "\u001b[1;32m~\\AppData\\Local\\Temp\\ipykernel_8976\\2636005934.py\u001b[0m in \u001b[0;36m__init__\u001b[1;34m(self, name, age, weight, height)\u001b[0m\n\u001b[0;32m      5\u001b[0m     \u001b[1;32mdef\u001b[0m \u001b[0m__init__\u001b[0m\u001b[1;33m(\u001b[0m\u001b[0mself\u001b[0m\u001b[1;33m,\u001b[0m \u001b[0mname\u001b[0m\u001b[1;33m,\u001b[0m \u001b[0mage\u001b[0m\u001b[1;33m,\u001b[0m \u001b[0mweight\u001b[0m\u001b[1;33m,\u001b[0m \u001b[0mheight\u001b[0m\u001b[1;33m)\u001b[0m\u001b[1;33m:\u001b[0m\u001b[1;33m\u001b[0m\u001b[1;33m\u001b[0m\u001b[0m\n\u001b[0;32m      6\u001b[0m         \u001b[0mself\u001b[0m\u001b[1;33m.\u001b[0m\u001b[0mname\u001b[0m \u001b[1;33m=\u001b[0m \u001b[0mname\u001b[0m\u001b[1;33m\u001b[0m\u001b[1;33m\u001b[0m\u001b[0m\n\u001b[1;32m----> 7\u001b[1;33m         \u001b[0mself\u001b[0m\u001b[1;33m.\u001b[0m\u001b[0mage\u001b[0m \u001b[1;33m=\u001b[0m \u001b[0mage\u001b[0m\u001b[1;33m\u001b[0m\u001b[1;33m\u001b[0m\u001b[0m\n\u001b[0m\u001b[0;32m      8\u001b[0m         \u001b[0mself\u001b[0m\u001b[1;33m.\u001b[0m\u001b[0mweight\u001b[0m \u001b[1;33m=\u001b[0m \u001b[0mweight\u001b[0m\u001b[1;33m\u001b[0m\u001b[1;33m\u001b[0m\u001b[0m\n\u001b[0;32m      9\u001b[0m         \u001b[0mself\u001b[0m\u001b[1;33m.\u001b[0m\u001b[0mheight\u001b[0m \u001b[1;33m=\u001b[0m \u001b[0mheight\u001b[0m\u001b[1;33m\u001b[0m\u001b[1;33m\u001b[0m\u001b[0m\n",
      "\u001b[1;32m~\\AppData\\Local\\Temp\\ipykernel_8976\\3162605466.py\u001b[0m in \u001b[0;36m__set__\u001b[1;34m(self, instance, value)\u001b[0m\n\u001b[0;32m     12\u001b[0m                 \u001b[0mself\u001b[0m\u001b[1;33m.\u001b[0m\u001b[0mmax_val\u001b[0m\u001b[1;33m,\u001b[0m\u001b[1;33m\u001b[0m\u001b[1;33m\u001b[0m\u001b[0m\n\u001b[0;32m     13\u001b[0m             )\n\u001b[1;32m---> 14\u001b[1;33m             \u001b[1;32mraise\u001b[0m \u001b[0mValueError\u001b[0m\u001b[1;33m(\u001b[0m\u001b[0mmsg\u001b[0m\u001b[1;33m)\u001b[0m\u001b[1;33m\u001b[0m\u001b[1;33m\u001b[0m\u001b[0m\n\u001b[0m\u001b[0;32m     15\u001b[0m         \u001b[0minstance\u001b[0m\u001b[1;33m.\u001b[0m\u001b[0m__dict__\u001b[0m\u001b[1;33m[\u001b[0m\u001b[0mself\u001b[0m\u001b[1;33m.\u001b[0m\u001b[0mname\u001b[0m\u001b[1;33m]\u001b[0m \u001b[1;33m=\u001b[0m \u001b[0mvalue\u001b[0m\u001b[1;33m\u001b[0m\u001b[1;33m\u001b[0m\u001b[0m\n\u001b[0;32m     16\u001b[0m     \u001b[1;32mdef\u001b[0m \u001b[0m__get__\u001b[0m\u001b[1;33m(\u001b[0m\u001b[0mself\u001b[0m\u001b[1;33m,\u001b[0m \u001b[0minstance\u001b[0m\u001b[1;33m,\u001b[0m \u001b[0mowner\u001b[0m\u001b[1;33m=\u001b[0m\u001b[1;32mNone\u001b[0m\u001b[1;33m)\u001b[0m\u001b[1;33m:\u001b[0m\u001b[1;33m\u001b[0m\u001b[1;33m\u001b[0m\u001b[0m\n",
      "\u001b[1;31mValueError\u001b[0m: age takes values between 1 and 120"
     ]
    }
   ],
   "source": [
    "p1 = Person('John',  age=20,  weight = 80, height = 170) \n",
    "p1 = Person('Maria', age=432, weight = 60, height = 160)"
   ]
  },
  {
   "cell_type": "code",
   "execution_count": 13,
   "metadata": {},
   "outputs": [
    {
     "name": "stdout",
     "output_type": "stream",
     "text": [
      "reshaped (1, 48)\n",
      "transposed (48, 1)\n"
     ]
    }
   ],
   "source": [
    "import numpy as np\n",
    "image_width = 4\n",
    "image_height = 4\n",
    "colours = 3\n",
    "image = np.zeros((image_width, image_height,3))\n",
    "resized_image = image.reshape(image.shape[0]*image.shape[1]*image.shape[2],-1).T\n",
    "print(\"reshaped\",resized_image.shape)\n",
    "print(\"transposed\",resized_image.T.shape)"
   ]
  },
  {
   "cell_type": "code",
   "execution_count": null,
   "metadata": {},
   "outputs": [],
   "source": []
  }
 ],
 "metadata": {
  "kernelspec": {
   "display_name": "Python 3.9.12 ('base')",
   "language": "python",
   "name": "python3"
  },
  "language_info": {
   "codemirror_mode": {
    "name": "ipython",
    "version": 3
   },
   "file_extension": ".py",
   "mimetype": "text/x-python",
   "name": "python",
   "nbconvert_exporter": "python",
   "pygments_lexer": "ipython3",
   "version": "3.9.13"
  },
  "orig_nbformat": 4,
  "vscode": {
   "interpreter": {
    "hash": "5ddf1881dc27576518f82adaa3aacd8c7695240f1fffb840ed09831eacff7203"
   }
  }
 },
 "nbformat": 4,
 "nbformat_minor": 2
}
