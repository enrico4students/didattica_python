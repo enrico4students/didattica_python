{
 "cells": [
  {
   "cell_type": "code",
   "execution_count": 22,
   "metadata": {},
   "outputs": [
    {
     "data": {
      "text/plain": [
       "'f:\\\\programs\\\\anaconda3\\\\python.exe'"
      ]
     },
     "execution_count": 22,
     "metadata": {},
     "output_type": "execute_result"
    }
   ],
   "source": [
    "sys.executable"
   ]
  },
  {
   "cell_type": "code",
   "execution_count": 4,
   "metadata": {},
   "outputs": [
    {
     "data": {
      "text/plain": [
       "[('__add__', <method-wrapper '__add__' of list object at 0x0000027E85994E40>),\n",
       " ('__class__', list),\n",
       " ('__class_getitem__', <function list.__class_getitem__>),\n",
       " ('__contains__',\n",
       "  <method-wrapper '__contains__' of list object at 0x0000027E85994E40>),\n",
       " ('__delattr__',\n",
       "  <method-wrapper '__delattr__' of list object at 0x0000027E85994E40>),\n",
       " ('__delitem__',\n",
       "  <method-wrapper '__delitem__' of list object at 0x0000027E85994E40>),\n",
       " ('__dir__', <function list.__dir__()>),\n",
       " ('__doc__',\n",
       "  'Built-in mutable sequence.\\n\\nIf no argument is given, the constructor creates a new empty list.\\nThe argument must be an iterable if specified.'),\n",
       " ('__eq__', <method-wrapper '__eq__' of list object at 0x0000027E85994E40>),\n",
       " ('__format__', <function list.__format__(format_spec, /)>),\n",
       " ('__ge__', <method-wrapper '__ge__' of list object at 0x0000027E85994E40>),\n",
       " ('__getattribute__',\n",
       "  <method-wrapper '__getattribute__' of list object at 0x0000027E85994E40>),\n",
       " ('__getitem__', <function list.__getitem__>),\n",
       " ('__gt__', <method-wrapper '__gt__' of list object at 0x0000027E85994E40>),\n",
       " ('__hash__', None),\n",
       " ('__iadd__',\n",
       "  <method-wrapper '__iadd__' of list object at 0x0000027E85994E40>),\n",
       " ('__imul__',\n",
       "  <method-wrapper '__imul__' of list object at 0x0000027E85994E40>),\n",
       " ('__init__',\n",
       "  <method-wrapper '__init__' of list object at 0x0000027E85994E40>),\n",
       " ('__init_subclass__', <function list.__init_subclass__>),\n",
       " ('__iter__',\n",
       "  <method-wrapper '__iter__' of list object at 0x0000027E85994E40>),\n",
       " ('__le__', <method-wrapper '__le__' of list object at 0x0000027E85994E40>),\n",
       " ('__len__', <method-wrapper '__len__' of list object at 0x0000027E85994E40>),\n",
       " ('__lt__', <method-wrapper '__lt__' of list object at 0x0000027E85994E40>),\n",
       " ('__mul__', <method-wrapper '__mul__' of list object at 0x0000027E85994E40>),\n",
       " ('__ne__', <method-wrapper '__ne__' of list object at 0x0000027E85994E40>),\n",
       " ('__new__', <function list.__new__(*args, **kwargs)>),\n",
       " ('__reduce__', <function list.__reduce__()>),\n",
       " ('__reduce_ex__', <function list.__reduce_ex__(protocol, /)>),\n",
       " ('__repr__',\n",
       "  <method-wrapper '__repr__' of list object at 0x0000027E85994E40>),\n",
       " ('__reversed__', <function list.__reversed__()>),\n",
       " ('__rmul__',\n",
       "  <method-wrapper '__rmul__' of list object at 0x0000027E85994E40>),\n",
       " ('__setattr__',\n",
       "  <method-wrapper '__setattr__' of list object at 0x0000027E85994E40>),\n",
       " ('__setitem__',\n",
       "  <method-wrapper '__setitem__' of list object at 0x0000027E85994E40>),\n",
       " ('__sizeof__', <function list.__sizeof__()>),\n",
       " ('__str__', <method-wrapper '__str__' of list object at 0x0000027E85994E40>),\n",
       " ('__subclasshook__', <function list.__subclasshook__>),\n",
       " ('append', <function list.append(object, /)>),\n",
       " ('clear', <function list.clear()>),\n",
       " ('copy', <function list.copy()>),\n",
       " ('count', <function list.count(value, /)>),\n",
       " ('extend', <function list.extend(iterable, /)>),\n",
       " ('index', <function list.index(value, start=0, stop=9223372036854775807, /)>),\n",
       " ('insert', <function list.insert(index, object, /)>),\n",
       " ('pop', <function list.pop(index=-1, /)>),\n",
       " ('remove', <function list.remove(value, /)>),\n",
       " ('reverse', <function list.reverse()>),\n",
       " ('sort', <function list.sort(*, key=None, reverse=False)>)]"
      ]
     },
     "execution_count": 4,
     "metadata": {},
     "output_type": "execute_result"
    }
   ],
   "source": [
    "l= []\n",
    "inspect.getmembers(l)"
   ]
  },
  {
   "cell_type": "code",
   "execution_count": null,
   "metadata": {},
   "outputs": [],
   "source": []
  }
 ],
 "metadata": {
  "interpreter": {
   "hash": "5ddf1881dc27576518f82adaa3aacd8c7695240f1fffb840ed09831eacff7203"
  },
  "kernelspec": {
   "display_name": "Python 3.9.12 ('base')",
   "language": "python",
   "name": "python3"
  },
  "language_info": {
   "codemirror_mode": {
    "name": "ipython",
    "version": 3
   },
   "file_extension": ".py",
   "mimetype": "text/x-python",
   "name": "python",
   "nbconvert_exporter": "python",
   "pygments_lexer": "ipython3",
   "version": "3.9.12"
  },
  "orig_nbformat": 4
 },
 "nbformat": 4,
 "nbformat_minor": 2
}
