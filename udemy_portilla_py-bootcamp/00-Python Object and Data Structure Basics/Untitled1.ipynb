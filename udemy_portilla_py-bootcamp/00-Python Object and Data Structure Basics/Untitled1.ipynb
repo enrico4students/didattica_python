{
 "cells": [
  {
   "cell_type": "code",
   "execution_count": 1,
   "id": "1ac0def2",
   "metadata": {},
   "outputs": [
    {
     "name": "stdout",
     "output_type": "stream",
     "text": [
      "0 , 10\n",
      "1 , 11\n",
      "2 , 12\n"
     ]
    }
   ],
   "source": [
    "l1 = [0, 1, 2]\n",
    "l2 = [10, 11, 12]\n",
    "zip_l1_l2 = zip(l1, l2)\n",
    "for z in zip_l1_l2:\n",
    "    print(z[0], \",\",z[1])"
   ]
  },
  {
   "cell_type": "code",
   "execution_count": 3,
   "id": "61f6d250",
   "metadata": {},
   "outputs": [
    {
     "data": {
      "text/plain": [
       "<zip at 0x28d6eef4640>"
      ]
     },
     "execution_count": 3,
     "metadata": {},
     "output_type": "execute_result"
    }
   ],
   "source": [
    "for z in zip_l1_l2:\n",
    "    print(z[0], \",\",z[1])\n",
    "zip_l1_l2"
   ]
  },
  {
   "cell_type": "code",
   "execution_count": null,
   "id": "f0565941",
   "metadata": {},
   "outputs": [],
   "source": []
  }
 ],
 "metadata": {
  "kernelspec": {
   "display_name": "Python 3 (ipykernel)",
   "language": "python",
   "name": "python3"
  },
  "language_info": {
   "codemirror_mode": {
    "name": "ipython",
    "version": 3
   },
   "file_extension": ".py",
   "mimetype": "text/x-python",
   "name": "python",
   "nbconvert_exporter": "python",
   "pygments_lexer": "ipython3",
   "version": "3.9.12"
  }
 },
 "nbformat": 4,
 "nbformat_minor": 5
}
